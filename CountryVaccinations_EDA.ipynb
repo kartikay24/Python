{
 "cells": [
  {
   "cell_type": "markdown",
   "metadata": {
    "id": "01pjjPSaHzXj"
   },
   "source": [
    "# NAME - Kartikay Agrawal\n",
    "# REG NO. - 2148064"
   ]
  },
  {
   "cell_type": "code",
   "execution_count": 1,
   "metadata": {
    "id": "6A6AZL-BF2Vm"
   },
   "outputs": [],
   "source": [
    "import numpy as np\n",
    "import pandas as pd\n",
    "import matplotlib.pyplot as plt\n",
    "import seaborn as sns"
   ]
  },
  {
   "cell_type": "code",
   "execution_count": 4,
   "metadata": {
    "id": "HL_GCmHPF2Vp"
   },
   "outputs": [],
   "source": [
    "df = pd.read_csv('/content/sample_data/country_vaccinations (1).csv')"
   ]
  },
  {
   "cell_type": "code",
   "execution_count": 5,
   "metadata": {
    "colab": {
     "base_uri": "https://localhost:8080/",
     "height": 400
    },
    "id": "s2n7NdDbF2Vp",
    "outputId": "25c412fb-2607-4b00-811a-7a8b3781fdff"
   },
   "outputs": [
    {
     "data": {
      "text/html": [
       "<div>\n",
       "<style scoped>\n",
       "    .dataframe tbody tr th:only-of-type {\n",
       "        vertical-align: middle;\n",
       "    }\n",
       "\n",
       "    .dataframe tbody tr th {\n",
       "        vertical-align: top;\n",
       "    }\n",
       "\n",
       "    .dataframe thead th {\n",
       "        text-align: right;\n",
       "    }\n",
       "</style>\n",
       "<table border=\"1\" class=\"dataframe\">\n",
       "  <thead>\n",
       "    <tr style=\"text-align: right;\">\n",
       "      <th></th>\n",
       "      <th>country</th>\n",
       "      <th>iso_code</th>\n",
       "      <th>date</th>\n",
       "      <th>total_vaccinations</th>\n",
       "      <th>people_vaccinated</th>\n",
       "      <th>people_fully_vaccinated</th>\n",
       "      <th>daily_vaccinations_raw</th>\n",
       "      <th>daily_vaccinations</th>\n",
       "      <th>total_vaccinations_per_hundred</th>\n",
       "      <th>people_vaccinated_per_hundred</th>\n",
       "      <th>people_fully_vaccinated_per_hundred</th>\n",
       "      <th>daily_vaccinations_per_million</th>\n",
       "      <th>vaccines</th>\n",
       "      <th>source_name</th>\n",
       "      <th>source_website</th>\n",
       "    </tr>\n",
       "  </thead>\n",
       "  <tbody>\n",
       "    <tr>\n",
       "      <th>0</th>\n",
       "      <td>Afghanistan</td>\n",
       "      <td>AFG</td>\n",
       "      <td>2021-02-22</td>\n",
       "      <td>0.0</td>\n",
       "      <td>0.0</td>\n",
       "      <td>NaN</td>\n",
       "      <td>NaN</td>\n",
       "      <td>NaN</td>\n",
       "      <td>0.0</td>\n",
       "      <td>0.0</td>\n",
       "      <td>NaN</td>\n",
       "      <td>NaN</td>\n",
       "      <td>Johnson&amp;Johnson, Oxford/AstraZeneca, Pfizer/Bi...</td>\n",
       "      <td>World Health Organization</td>\n",
       "      <td>https://reliefweb.int/sites/reliefweb.int/file...</td>\n",
       "    </tr>\n",
       "    <tr>\n",
       "      <th>1</th>\n",
       "      <td>Afghanistan</td>\n",
       "      <td>AFG</td>\n",
       "      <td>2021-02-23</td>\n",
       "      <td>NaN</td>\n",
       "      <td>NaN</td>\n",
       "      <td>NaN</td>\n",
       "      <td>NaN</td>\n",
       "      <td>1367.0</td>\n",
       "      <td>NaN</td>\n",
       "      <td>NaN</td>\n",
       "      <td>NaN</td>\n",
       "      <td>34.0</td>\n",
       "      <td>Johnson&amp;Johnson, Oxford/AstraZeneca, Pfizer/Bi...</td>\n",
       "      <td>World Health Organization</td>\n",
       "      <td>https://reliefweb.int/sites/reliefweb.int/file...</td>\n",
       "    </tr>\n",
       "    <tr>\n",
       "      <th>2</th>\n",
       "      <td>Afghanistan</td>\n",
       "      <td>AFG</td>\n",
       "      <td>2021-02-24</td>\n",
       "      <td>NaN</td>\n",
       "      <td>NaN</td>\n",
       "      <td>NaN</td>\n",
       "      <td>NaN</td>\n",
       "      <td>1367.0</td>\n",
       "      <td>NaN</td>\n",
       "      <td>NaN</td>\n",
       "      <td>NaN</td>\n",
       "      <td>34.0</td>\n",
       "      <td>Johnson&amp;Johnson, Oxford/AstraZeneca, Pfizer/Bi...</td>\n",
       "      <td>World Health Organization</td>\n",
       "      <td>https://reliefweb.int/sites/reliefweb.int/file...</td>\n",
       "    </tr>\n",
       "    <tr>\n",
       "      <th>3</th>\n",
       "      <td>Afghanistan</td>\n",
       "      <td>AFG</td>\n",
       "      <td>2021-02-25</td>\n",
       "      <td>NaN</td>\n",
       "      <td>NaN</td>\n",
       "      <td>NaN</td>\n",
       "      <td>NaN</td>\n",
       "      <td>1367.0</td>\n",
       "      <td>NaN</td>\n",
       "      <td>NaN</td>\n",
       "      <td>NaN</td>\n",
       "      <td>34.0</td>\n",
       "      <td>Johnson&amp;Johnson, Oxford/AstraZeneca, Pfizer/Bi...</td>\n",
       "      <td>World Health Organization</td>\n",
       "      <td>https://reliefweb.int/sites/reliefweb.int/file...</td>\n",
       "    </tr>\n",
       "    <tr>\n",
       "      <th>4</th>\n",
       "      <td>Afghanistan</td>\n",
       "      <td>AFG</td>\n",
       "      <td>2021-02-26</td>\n",
       "      <td>NaN</td>\n",
       "      <td>NaN</td>\n",
       "      <td>NaN</td>\n",
       "      <td>NaN</td>\n",
       "      <td>1367.0</td>\n",
       "      <td>NaN</td>\n",
       "      <td>NaN</td>\n",
       "      <td>NaN</td>\n",
       "      <td>34.0</td>\n",
       "      <td>Johnson&amp;Johnson, Oxford/AstraZeneca, Pfizer/Bi...</td>\n",
       "      <td>World Health Organization</td>\n",
       "      <td>https://reliefweb.int/sites/reliefweb.int/file...</td>\n",
       "    </tr>\n",
       "  </tbody>\n",
       "</table>\n",
       "</div>"
      ],
      "text/plain": [
       "       country  ...                                     source_website\n",
       "0  Afghanistan  ...  https://reliefweb.int/sites/reliefweb.int/file...\n",
       "1  Afghanistan  ...  https://reliefweb.int/sites/reliefweb.int/file...\n",
       "2  Afghanistan  ...  https://reliefweb.int/sites/reliefweb.int/file...\n",
       "3  Afghanistan  ...  https://reliefweb.int/sites/reliefweb.int/file...\n",
       "4  Afghanistan  ...  https://reliefweb.int/sites/reliefweb.int/file...\n",
       "\n",
       "[5 rows x 15 columns]"
      ]
     },
     "execution_count": 5,
     "metadata": {},
     "output_type": "execute_result"
    }
   ],
   "source": [
    "df.head()"
   ]
  },
  {
   "cell_type": "code",
   "execution_count": 6,
   "metadata": {
    "colab": {
     "base_uri": "https://localhost:8080/"
    },
    "id": "1ijtaKaQF2Vq",
    "outputId": "e1af3a30-fd44-47e6-be4a-47039111d70c"
   },
   "outputs": [
    {
     "name": "stdout",
     "output_type": "stream",
     "text": [
      "<class 'pandas.core.frame.DataFrame'>\n",
      "RangeIndex: 60269 entries, 0 to 60268\n",
      "Data columns (total 15 columns):\n",
      " #   Column                               Non-Null Count  Dtype  \n",
      "---  ------                               --------------  -----  \n",
      " 0   country                              60269 non-null  object \n",
      " 1   iso_code                             60269 non-null  object \n",
      " 2   date                                 60269 non-null  object \n",
      " 3   total_vaccinations                   32315 non-null  float64\n",
      " 4   people_vaccinated                    30739 non-null  float64\n",
      " 5   people_fully_vaccinated              27943 non-null  float64\n",
      " 6   daily_vaccinations_raw               26398 non-null  float64\n",
      " 7   daily_vaccinations                   59936 non-null  float64\n",
      " 8   total_vaccinations_per_hundred       32315 non-null  float64\n",
      " 9   people_vaccinated_per_hundred        30739 non-null  float64\n",
      " 10  people_fully_vaccinated_per_hundred  27943 non-null  float64\n",
      " 11  daily_vaccinations_per_million       59936 non-null  float64\n",
      " 12  vaccines                             60269 non-null  object \n",
      " 13  source_name                          60269 non-null  object \n",
      " 14  source_website                       60269 non-null  object \n",
      "dtypes: float64(9), object(6)\n",
      "memory usage: 6.9+ MB\n"
     ]
    }
   ],
   "source": [
    "df.info()"
   ]
  },
  {
   "cell_type": "code",
   "execution_count": 22,
   "metadata": {
    "colab": {
     "base_uri": "https://localhost:8080/",
     "height": 340
    },
    "id": "bpRU4NgLF2Vq",
    "outputId": "2ae0a992-9bb6-4963-820d-6f940ccefbdc"
   },
   "outputs": [
    {
     "data": {
      "text/plain": [
       "<matplotlib.axes._subplots.AxesSubplot at 0x7fcf23de0110>"
      ]
     },
     "execution_count": 22,
     "metadata": {},
     "output_type": "execute_result"
    },
    {
     "data": {
      "image/png": "[encoded data removed]",
      "text/plain": [
       "<Figure size 432x288 with 1 Axes>"
      ]
     },
     "metadata": {
      "needs_background": "light"
     },
     "output_type": "display_data"
    }
   ],
   "source": [
    "df['country'].value_counts().head(10).plot.bar(color=['black', 'red', 'green', 'blue', 'cyan','orange','magenta','pink','yellow'])"
   ]
  },
  {
   "cell_type": "code",
   "execution_count": 23,
   "metadata": {
    "colab": {
     "base_uri": "https://localhost:8080/",
     "height": 340
    },
    "id": "0DrRisaDF2Vr",
    "outputId": "09127adc-ae9e-447a-b2b8-d90ae91628a1"
   },
   "outputs": [
    {
     "data": {
      "text/plain": [
       "<matplotlib.axes._subplots.AxesSubplot at 0x7fcf23e3d250>"
      ]
     },
     "execution_count": 23,
     "metadata": {},
     "output_type": "execute_result"
    },
    {
     "data": {
      "image/png": "[encoded data removed]",
      "text/plain": [
       "<Figure size 432x288 with 1 Axes>"
      ]
     },
     "metadata": {
      "needs_background": "light"
     },
     "output_type": "display_data"
    }
   ],
   "source": [
    "(df['country'].value_counts().head(10) / len(df)).plot.bar()"
   ]
  },
  {
   "cell_type": "code",
   "execution_count": 24,
   "metadata": {
    "colab": {
     "base_uri": "https://localhost:8080/",
     "height": 295
    },
    "id": "or_amLzSF2Vr",
    "outputId": "19f5733c-632f-4ddf-ef4e-11dfca72a4a7"
   },
   "outputs": [
    {
     "data": {
      "text/plain": [
       "<matplotlib.axes._subplots.AxesSubplot at 0x7fcf23cf0090>"
      ]
     },
     "execution_count": 24,
     "metadata": {},
     "output_type": "execute_result"
    },
    {
     "data": {
      "image/png": "[encoded data removed]",
      "text/plain": [
       "<Figure size 432x288 with 1 Axes>"
      ]
     },
     "metadata": {
      "needs_background": "light"
     },
     "output_type": "display_data"
    }
   ],
   "source": [
    "df['total_vaccinations'].value_counts().sort_index().plot.line()"
   ]
  },
  {
   "cell_type": "code",
   "execution_count": 26,
   "metadata": {
    "colab": {
     "base_uri": "https://localhost:8080/",
     "height": 282
    },
    "id": "UklAa-QYF2Vs",
    "outputId": "add6552d-2382-42c3-fe3f-9d6febc1305e"
   },
   "outputs": [
    {
     "data": {
      "text/plain": [
       "<matplotlib.axes._subplots.AxesSubplot at 0x7fcf23c4d3d0>"
      ]
     },
     "execution_count": 26,
     "metadata": {},
     "output_type": "execute_result"
    },
    {
     "data": {
      "image/png": "[encoded data removed]",
      "text/plain": [
       "<Figure size 432x288 with 1 Axes>"
      ]
     },
     "metadata": {
      "needs_background": "light"
     },
     "output_type": "display_data"
    }
   ],
   "source": [
    "df[df['total_vaccinations'] < 1000]['total_vaccinations'].plot.hist(color=['orange'])"
   ]
  },
  {
   "cell_type": "code",
   "execution_count": 27,
   "metadata": {
    "colab": {
     "base_uri": "https://localhost:8080/",
     "height": 492
    },
    "id": "9FeWs4mQF2Vs",
    "outputId": "eb67e9a9-f004-4560-b4d3-ec459a0e322d"
   },
   "outputs": [
    {
     "data": {
      "text/html": [
       "<div>\n",
       "<style scoped>\n",
       "    .dataframe tbody tr th:only-of-type {\n",
       "        vertical-align: middle;\n",
       "    }\n",
       "\n",
       "    .dataframe tbody tr th {\n",
       "        vertical-align: top;\n",
       "    }\n",
       "\n",
       "    .dataframe thead th {\n",
       "        text-align: right;\n",
       "    }\n",
       "</style>\n",
       "<table border=\"1\" class=\"dataframe\">\n",
       "  <thead>\n",
       "    <tr style=\"text-align: right;\">\n",
       "      <th></th>\n",
       "      <th>daily_vaccinations</th>\n",
       "      <th>daily_vaccinations_per_million</th>\n",
       "      <th>daily_vaccinations_raw</th>\n",
       "      <th>people_fully_vaccinated</th>\n",
       "      <th>people_fully_vaccinated_per_hundred</th>\n",
       "      <th>people_vaccinated</th>\n",
       "      <th>people_vaccinated_per_hundred</th>\n",
       "      <th>total_vaccinations</th>\n",
       "      <th>total_vaccinations_per_hundred</th>\n",
       "    </tr>\n",
       "    <tr>\n",
       "      <th>country</th>\n",
       "      <th></th>\n",
       "      <th></th>\n",
       "      <th></th>\n",
       "      <th></th>\n",
       "      <th></th>\n",
       "      <th></th>\n",
       "      <th></th>\n",
       "      <th></th>\n",
       "      <th></th>\n",
       "    </tr>\n",
       "  </thead>\n",
       "  <tbody>\n",
       "    <tr>\n",
       "      <th>Afghanistan</th>\n",
       "      <td>16869.269373</td>\n",
       "      <td>423.450185</td>\n",
       "      <td>3437.000000</td>\n",
       "      <td>4.969699e+05</td>\n",
       "      <td>1.246842</td>\n",
       "      <td>7.504290e+05</td>\n",
       "      <td>1.884231</td>\n",
       "      <td>1.023013e+06</td>\n",
       "      <td>2.568966</td>\n",
       "    </tr>\n",
       "    <tr>\n",
       "      <th>Albania</th>\n",
       "      <td>6456.470219</td>\n",
       "      <td>2247.300940</td>\n",
       "      <td>8311.044304</td>\n",
       "      <td>5.660689e+05</td>\n",
       "      <td>19.703851</td>\n",
       "      <td>6.729410e+05</td>\n",
       "      <td>23.423481</td>\n",
       "      <td>9.748887e+05</td>\n",
       "      <td>33.933507</td>\n",
       "    </tr>\n",
       "    <tr>\n",
       "      <th>Algeria</th>\n",
       "      <td>39893.531987</td>\n",
       "      <td>893.962963</td>\n",
       "      <td>11778.000000</td>\n",
       "      <td>4.312167e+06</td>\n",
       "      <td>9.664545</td>\n",
       "      <td>4.802570e+06</td>\n",
       "      <td>10.764000</td>\n",
       "      <td>8.245020e+06</td>\n",
       "      <td>18.480667</td>\n",
       "    </tr>\n",
       "    <tr>\n",
       "      <th>Andorra</th>\n",
       "      <td>372.580645</td>\n",
       "      <td>4816.519713</td>\n",
       "      <td>2401.000000</td>\n",
       "      <td>2.019068e+04</td>\n",
       "      <td>26.101818</td>\n",
       "      <td>2.640464e+04</td>\n",
       "      <td>34.135357</td>\n",
       "      <td>3.772676e+04</td>\n",
       "      <td>48.772121</td>\n",
       "    </tr>\n",
       "    <tr>\n",
       "      <th>Angola</th>\n",
       "      <td>32478.626866</td>\n",
       "      <td>957.111940</td>\n",
       "      <td>NaN</td>\n",
       "      <td>9.843689e+05</td>\n",
       "      <td>2.900882</td>\n",
       "      <td>1.792471e+06</td>\n",
       "      <td>5.282093</td>\n",
       "      <td>2.647387e+06</td>\n",
       "      <td>7.802500</td>\n",
       "    </tr>\n",
       "    <tr>\n",
       "      <th>...</th>\n",
       "      <td>...</td>\n",
       "      <td>...</td>\n",
       "      <td>...</td>\n",
       "      <td>...</td>\n",
       "      <td>...</td>\n",
       "      <td>...</td>\n",
       "      <td>...</td>\n",
       "      <td>...</td>\n",
       "      <td>...</td>\n",
       "    </tr>\n",
       "    <tr>\n",
       "      <th>Wales</th>\n",
       "      <td>17034.715625</td>\n",
       "      <td>5373.725000</td>\n",
       "      <td>17353.006369</td>\n",
       "      <td>1.288415e+06</td>\n",
       "      <td>40.644082</td>\n",
       "      <td>1.838914e+06</td>\n",
       "      <td>58.009873</td>\n",
       "      <td>3.194812e+06</td>\n",
       "      <td>100.782785</td>\n",
       "    </tr>\n",
       "    <tr>\n",
       "      <th>Wallis and Futuna</th>\n",
       "      <td>46.770492</td>\n",
       "      <td>4215.840164</td>\n",
       "      <td>NaN</td>\n",
       "      <td>4.473862e+03</td>\n",
       "      <td>40.326207</td>\n",
       "      <td>4.724706e+03</td>\n",
       "      <td>42.587941</td>\n",
       "      <td>8.540647e+03</td>\n",
       "      <td>76.984118</td>\n",
       "    </tr>\n",
       "    <tr>\n",
       "      <th>Yemen</th>\n",
       "      <td>3822.892857</td>\n",
       "      <td>125.372449</td>\n",
       "      <td>NaN</td>\n",
       "      <td>1.817411e+05</td>\n",
       "      <td>0.596667</td>\n",
       "      <td>2.980797e+05</td>\n",
       "      <td>0.976875</td>\n",
       "      <td>3.768748e+05</td>\n",
       "      <td>1.235000</td>\n",
       "    </tr>\n",
       "    <tr>\n",
       "      <th>Zambia</th>\n",
       "      <td>4619.396476</td>\n",
       "      <td>244.110132</td>\n",
       "      <td>6955.678161</td>\n",
       "      <td>2.341252e+05</td>\n",
       "      <td>1.237228</td>\n",
       "      <td>1.874879e+05</td>\n",
       "      <td>0.990957</td>\n",
       "      <td>4.143333e+05</td>\n",
       "      <td>2.190079</td>\n",
       "    </tr>\n",
       "    <tr>\n",
       "      <th>Zimbabwe</th>\n",
       "      <td>23009.263345</td>\n",
       "      <td>1524.569395</td>\n",
       "      <td>24531.350427</td>\n",
       "      <td>1.169511e+06</td>\n",
       "      <td>7.748865</td>\n",
       "      <td>1.539398e+06</td>\n",
       "      <td>10.200078</td>\n",
       "      <td>2.577452e+06</td>\n",
       "      <td>17.078333</td>\n",
       "    </tr>\n",
       "  </tbody>\n",
       "</table>\n",
       "<p>223 rows × 9 columns</p>\n",
       "</div>"
      ],
      "text/plain": [
       "                   daily_vaccinations  ...  total_vaccinations_per_hundred\n",
       "country                                ...                                \n",
       "Afghanistan              16869.269373  ...                        2.568966\n",
       "Albania                   6456.470219  ...                       33.933507\n",
       "Algeria                  39893.531987  ...                       18.480667\n",
       "Andorra                    372.580645  ...                       48.772121\n",
       "Angola                   32478.626866  ...                        7.802500\n",
       "...                               ...  ...                             ...\n",
       "Wales                    17034.715625  ...                      100.782785\n",
       "Wallis and Futuna           46.770492  ...                       76.984118\n",
       "Yemen                     3822.892857  ...                        1.235000\n",
       "Zambia                    4619.396476  ...                        2.190079\n",
       "Zimbabwe                 23009.263345  ...                       17.078333\n",
       "\n",
       "[223 rows x 9 columns]"
      ]
     },
     "execution_count": 27,
     "metadata": {},
     "output_type": "execute_result"
    }
   ],
   "source": [
    "pd.pivot_table(df,index=[\"country\"])"
   ]
  },
  {
   "cell_type": "code",
   "execution_count": 28,
   "metadata": {
    "colab": {
     "base_uri": "https://localhost:8080/",
     "height": 808
    },
    "id": "A3oG9lnwF2Vt",
    "outputId": "419ec41a-fe6f-481d-cfbc-2fa519176f5f"
   },
   "outputs": [
    {
     "data": {
      "text/html": [
       "<div>\n",
       "<style scoped>\n",
       "    .dataframe tbody tr th:only-of-type {\n",
       "        vertical-align: middle;\n",
       "    }\n",
       "\n",
       "    .dataframe tbody tr th {\n",
       "        vertical-align: top;\n",
       "    }\n",
       "\n",
       "    .dataframe thead th {\n",
       "        text-align: right;\n",
       "    }\n",
       "</style>\n",
       "<table border=\"1\" class=\"dataframe\">\n",
       "  <thead>\n",
       "    <tr style=\"text-align: right;\">\n",
       "      <th></th>\n",
       "      <th>country</th>\n",
       "      <th>iso_code</th>\n",
       "      <th>date</th>\n",
       "      <th>total_vaccinations</th>\n",
       "      <th>people_vaccinated</th>\n",
       "      <th>people_fully_vaccinated</th>\n",
       "      <th>daily_vaccinations_raw</th>\n",
       "      <th>daily_vaccinations</th>\n",
       "      <th>total_vaccinations_per_hundred</th>\n",
       "      <th>people_vaccinated_per_hundred</th>\n",
       "      <th>people_fully_vaccinated_per_hundred</th>\n",
       "      <th>daily_vaccinations_per_million</th>\n",
       "      <th>vaccines</th>\n",
       "      <th>source_name</th>\n",
       "      <th>source_website</th>\n",
       "    </tr>\n",
       "  </thead>\n",
       "  <tbody>\n",
       "    <tr>\n",
       "      <th>593</th>\n",
       "      <td>Algeria</td>\n",
       "      <td>DZA</td>\n",
       "      <td>2021-01-30</td>\n",
       "      <td>30.0</td>\n",
       "      <td>30.0</td>\n",
       "      <td>NaN</td>\n",
       "      <td>30.0</td>\n",
       "      <td>30.0</td>\n",
       "      <td>0.00</td>\n",
       "      <td>0.00</td>\n",
       "      <td>NaN</td>\n",
       "      <td>1.0</td>\n",
       "      <td>Oxford/AstraZeneca, Sinopharm/Beijing, Sinovac...</td>\n",
       "      <td>World Health Organization</td>\n",
       "      <td>https://covid19.who.int/</td>\n",
       "    </tr>\n",
       "    <tr>\n",
       "      <th>2772</th>\n",
       "      <td>Aruba</td>\n",
       "      <td>ABW</td>\n",
       "      <td>2021-10-08</td>\n",
       "      <td>157355.0</td>\n",
       "      <td>81761.0</td>\n",
       "      <td>75594.0</td>\n",
       "      <td>143.0</td>\n",
       "      <td>143.0</td>\n",
       "      <td>146.79</td>\n",
       "      <td>76.27</td>\n",
       "      <td>70.52</td>\n",
       "      <td>1334.0</td>\n",
       "      <td>Pfizer/BioNTech</td>\n",
       "      <td>Government of Aruba</td>\n",
       "      <td>https://www.government.aw</td>\n",
       "    </tr>\n",
       "    <tr>\n",
       "      <th>2824</th>\n",
       "      <td>Australia</td>\n",
       "      <td>AUS</td>\n",
       "      <td>2021-02-22</td>\n",
       "      <td>2789.0</td>\n",
       "      <td>2789.0</td>\n",
       "      <td>NaN</td>\n",
       "      <td>2769.0</td>\n",
       "      <td>2769.0</td>\n",
       "      <td>0.01</td>\n",
       "      <td>0.01</td>\n",
       "      <td>NaN</td>\n",
       "      <td>107.0</td>\n",
       "      <td>Moderna, Oxford/AstraZeneca, Pfizer/BioNTech</td>\n",
       "      <td>Government of Australia via CovidBaseAU</td>\n",
       "      <td>https://covidbaseau.com/</td>\n",
       "    </tr>\n",
       "    <tr>\n",
       "      <th>3104</th>\n",
       "      <td>Austria</td>\n",
       "      <td>AUT</td>\n",
       "      <td>2020-12-28</td>\n",
       "      <td>2092.0</td>\n",
       "      <td>2092.0</td>\n",
       "      <td>NaN</td>\n",
       "      <td>1331.0</td>\n",
       "      <td>1331.0</td>\n",
       "      <td>0.02</td>\n",
       "      <td>0.02</td>\n",
       "      <td>NaN</td>\n",
       "      <td>147.0</td>\n",
       "      <td>Johnson&amp;Johnson, Moderna, Oxford/AstraZeneca, ...</td>\n",
       "      <td>Ministry of Health</td>\n",
       "      <td>https://info.gesundheitsministerium.gv.at/data...</td>\n",
       "    </tr>\n",
       "    <tr>\n",
       "      <th>3755</th>\n",
       "      <td>Bahamas</td>\n",
       "      <td>BHS</td>\n",
       "      <td>2021-03-14</td>\n",
       "      <td>110.0</td>\n",
       "      <td>100.0</td>\n",
       "      <td>NaN</td>\n",
       "      <td>110.0</td>\n",
       "      <td>110.0</td>\n",
       "      <td>0.03</td>\n",
       "      <td>0.03</td>\n",
       "      <td>NaN</td>\n",
       "      <td>277.0</td>\n",
       "      <td>Johnson&amp;Johnson, Oxford/AstraZeneca, Pfizer/Bi...</td>\n",
       "      <td>Pan American Health Organization</td>\n",
       "      <td>https://ais.paho.org/imm/IM_DosisAdmin-Vacunac...</td>\n",
       "    </tr>\n",
       "    <tr>\n",
       "      <th>...</th>\n",
       "      <td>...</td>\n",
       "      <td>...</td>\n",
       "      <td>...</td>\n",
       "      <td>...</td>\n",
       "      <td>...</td>\n",
       "      <td>...</td>\n",
       "      <td>...</td>\n",
       "      <td>...</td>\n",
       "      <td>...</td>\n",
       "      <td>...</td>\n",
       "      <td>...</td>\n",
       "      <td>...</td>\n",
       "      <td>...</td>\n",
       "      <td>...</td>\n",
       "      <td>...</td>\n",
       "    </tr>\n",
       "    <tr>\n",
       "      <th>58735</th>\n",
       "      <td>Vietnam</td>\n",
       "      <td>VNM</td>\n",
       "      <td>2021-03-08</td>\n",
       "      <td>377.0</td>\n",
       "      <td>377.0</td>\n",
       "      <td>NaN</td>\n",
       "      <td>377.0</td>\n",
       "      <td>377.0</td>\n",
       "      <td>0.00</td>\n",
       "      <td>0.00</td>\n",
       "      <td>NaN</td>\n",
       "      <td>4.0</td>\n",
       "      <td>Moderna, Oxford/AstraZeneca, Pfizer/BioNTech, ...</td>\n",
       "      <td>Government of Vietnam</td>\n",
       "      <td>https://moh.gov.vn:443/tin-tong-hop/-/asset_pu...</td>\n",
       "    </tr>\n",
       "    <tr>\n",
       "      <th>58997</th>\n",
       "      <td>Wales</td>\n",
       "      <td>OWID_WLS</td>\n",
       "      <td>2021-01-11</td>\n",
       "      <td>91336.0</td>\n",
       "      <td>91239.0</td>\n",
       "      <td>97.0</td>\n",
       "      <td>5218.0</td>\n",
       "      <td>5218.0</td>\n",
       "      <td>2.88</td>\n",
       "      <td>2.88</td>\n",
       "      <td>0.00</td>\n",
       "      <td>1646.0</td>\n",
       "      <td>Moderna, Oxford/AstraZeneca, Pfizer/BioNTech</td>\n",
       "      <td>Government of the United Kingdom</td>\n",
       "      <td>https://coronavirus.data.gov.uk/details/vaccin...</td>\n",
       "    </tr>\n",
       "    <tr>\n",
       "      <th>59247</th>\n",
       "      <td>Wales</td>\n",
       "      <td>OWID_WLS</td>\n",
       "      <td>2021-09-18</td>\n",
       "      <td>4582013.0</td>\n",
       "      <td>2368230.0</td>\n",
       "      <td>2213783.0</td>\n",
       "      <td>2219.0</td>\n",
       "      <td>2219.0</td>\n",
       "      <td>144.54</td>\n",
       "      <td>74.71</td>\n",
       "      <td>69.84</td>\n",
       "      <td>700.0</td>\n",
       "      <td>Moderna, Oxford/AstraZeneca, Pfizer/BioNTech</td>\n",
       "      <td>Government of the United Kingdom</td>\n",
       "      <td>https://coronavirus.data.gov.uk/details/vaccin...</td>\n",
       "    </tr>\n",
       "    <tr>\n",
       "      <th>59760</th>\n",
       "      <td>Zambia</td>\n",
       "      <td>ZMB</td>\n",
       "      <td>2021-04-15</td>\n",
       "      <td>106.0</td>\n",
       "      <td>106.0</td>\n",
       "      <td>NaN</td>\n",
       "      <td>106.0</td>\n",
       "      <td>106.0</td>\n",
       "      <td>0.00</td>\n",
       "      <td>0.00</td>\n",
       "      <td>NaN</td>\n",
       "      <td>6.0</td>\n",
       "      <td>Johnson&amp;Johnson, Oxford/AstraZeneca, Sinopharm...</td>\n",
       "      <td>Government of Zambia</td>\n",
       "      <td>https://rtc-planning.maps.arcgis.com/apps/dash...</td>\n",
       "    </tr>\n",
       "    <tr>\n",
       "      <th>60019</th>\n",
       "      <td>Zimbabwe</td>\n",
       "      <td>ZWE</td>\n",
       "      <td>2021-03-22</td>\n",
       "      <td>44120.0</td>\n",
       "      <td>43840.0</td>\n",
       "      <td>280.0</td>\n",
       "      <td>845.0</td>\n",
       "      <td>845.0</td>\n",
       "      <td>0.29</td>\n",
       "      <td>0.29</td>\n",
       "      <td>0.00</td>\n",
       "      <td>56.0</td>\n",
       "      <td>Oxford/AstraZeneca, Sinopharm/Beijing, Sinovac...</td>\n",
       "      <td>Ministry of Health</td>\n",
       "      <td>https://www.arcgis.com/home/webmap/viewer.html...</td>\n",
       "    </tr>\n",
       "  </tbody>\n",
       "</table>\n",
       "<p>126 rows × 15 columns</p>\n",
       "</div>"
      ],
      "text/plain": [
       "         country  ...                                     source_website\n",
       "593      Algeria  ...                           https://covid19.who.int/\n",
       "2772       Aruba  ...                          https://www.government.aw\n",
       "2824   Australia  ...                           https://covidbaseau.com/\n",
       "3104     Austria  ...  https://info.gesundheitsministerium.gv.at/data...\n",
       "3755     Bahamas  ...  https://ais.paho.org/imm/IM_DosisAdmin-Vacunac...\n",
       "...          ...  ...                                                ...\n",
       "58735    Vietnam  ...  https://moh.gov.vn:443/tin-tong-hop/-/asset_pu...\n",
       "58997      Wales  ...  https://coronavirus.data.gov.uk/details/vaccin...\n",
       "59247      Wales  ...  https://coronavirus.data.gov.uk/details/vaccin...\n",
       "59760     Zambia  ...  https://rtc-planning.maps.arcgis.com/apps/dash...\n",
       "60019   Zimbabwe  ...  https://www.arcgis.com/home/webmap/viewer.html...\n",
       "\n",
       "[126 rows x 15 columns]"
      ]
     },
     "execution_count": 28,
     "metadata": {},
     "output_type": "execute_result"
    }
   ],
   "source": [
    "df.query('daily_vaccinations_raw == `daily_vaccinations`')"
   ]
  },
  {
   "cell_type": "code",
   "execution_count": 29,
   "metadata": {
    "colab": {
     "base_uri": "https://localhost:8080/"
    },
    "id": "SYq4ZZfJF2Vt",
    "outputId": "b281f0ae-55ff-495c-a007-f8ae54a27604"
   },
   "outputs": [
    {
     "data": {
      "text/plain": [
       "sum    9.405338e+11\n",
       "min    0.000000e+00\n",
       "Name: total_vaccinations, dtype: float64"
      ]
     },
     "execution_count": 29,
     "metadata": {},
     "output_type": "execute_result"
    }
   ],
   "source": [
    "df['total_vaccinations'].agg(['sum', 'min'])"
   ]
  }
 ],
 "metadata": {
  "colab": {
   "name": "2021_11_26_p7_p8__2148006.ipynb",
   "provenance": []
  },
  "kernelspec": {
   "display_name": "Python 3",
   "language": "python",
   "name": "python3"
  },
  "language_info": {
   "codemirror_mode": {
    "name": "ipython",
    "version": 3
   },
   "file_extension": ".py",
   "mimetype": "text/x-python",
   "name": "python",
   "nbconvert_exporter": "python",
   "pygments_lexer": "ipython3",
   "version": "3.8.8"
  }
 },
 "nbformat": 4,
 "nbformat_minor": 1
}
