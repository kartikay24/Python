{
  "nbformat": 4,
  "nbformat_minor": 0,
  "metadata": {
    "colab": {
      "name": "2148064_Test2.ipynb",
      "provenance": [],
      "collapsed_sections": []
    },
    "kernelspec": {
      "name": "python3",
      "display_name": "Python 3"
    },
    "language_info": {
      "name": "python"
    }
  },
  "cells": [
    {
      "cell_type": "markdown",
      "metadata": {
        "id": "Pv5u3ZGnDx97"
      },
      "source": [
        "Name:Kartikay Agrawal\n",
        "\n",
        "Roll No:2148064\n",
        "\n",
        "\n",
        "##                           **LAB TEST-2**\n",
        "\n",
        "\n"
      ]
    },
    {
      "cell_type": "markdown",
      "metadata": {
        "id": "zlAk9JYo0wp_"
      },
      "source": [
        "PART A: Write a python code to perform the following task using regular\n",
        "expression concepts: 2.5x4=10 Marks\n",
        "\n",
        "i) Find the dates which accept and match the date formats either dd/mm/yy\n",
        "or yy/mm/dd\n",
        "\n",
        "ii) Not to accept 30th or 31st in February month\n",
        "\n",
        "iii) Accept and validate the emails ending only with .in or .net (Give an\n",
        "input of any 10 list of emails).\n",
        "\n",
        "iv) Find all the occurences having ‘in’ in the list of emails"
      ]
    },
    {
      "cell_type": "code",
      "metadata": {
        "colab": {
          "base_uri": "https://localhost:8080/"
        },
        "id": "x-8jnC1gr8eB",
        "outputId": "025290ca-826f-46e9-a858-3f638f4f4a06"
      },
      "source": [
        "import re   \n",
        "# for validating a Date\n",
        "regex = '^([0]?[1-9]|[1|2][0-9]|[3][0|1])[./-]([0]?[1-9]|[1][0-2])[./-]([0-9]{2})$'  \n",
        "  \n",
        "def check(date):     \n",
        "    if(re.search(regex,date)):   \n",
        "        print(\"Valid date\")   \n",
        "    else:   \n",
        "        print(\"Invalid date\")   \n",
        "      \n",
        "# Enter the date\n",
        "date=\"32/04/2010\"\n",
        "check(date)\n",
        "\n",
        "date=\"24/08/20\"\n",
        "check(date)\n"
      ],
      "execution_count": 1,
      "outputs": [
        {
          "output_type": "stream",
          "name": "stdout",
          "text": [
            "Invalid date\n",
            "Valid date\n"
          ]
        }
      ]
    },
    {
      "cell_type": "code",
      "metadata": {
        "colab": {
          "base_uri": "https://localhost:8080/"
        },
        "id": "XqiWOkWF1MhI",
        "outputId": "ab88e202-c916-49d3-feda-5edf78922535"
      },
      "source": [
        "# for validating a Date in february\n",
        "regex = '^([0]?[1-9]|[1|2][0-9])[./-]([0][2])[./-]([0-9]{2})$'  \n",
        "  \n",
        "def check(date):     \n",
        "    if(re.search(regex,date)):   \n",
        "        print(\"Valid date\")   \n",
        "    else:   \n",
        "        print(\"Invalid date\")   \n",
        "      \n",
        "# Enter the date\n",
        "date=\"30/02/11\"\n",
        "check(date)\n",
        "\n",
        "date=\"24/02/11\"\n",
        "check(date)\n"
      ],
      "execution_count": 2,
      "outputs": [
        {
          "output_type": "stream",
          "name": "stdout",
          "text": [
            "Invalid date\n",
            "Valid date\n"
          ]
        }
      ]
    },
    {
      "cell_type": "code",
      "metadata": {
        "colab": {
          "base_uri": "https://localhost:8080/"
        },
        "id": "xrez5hw61II4",
        "outputId": "b80fcb85-95d4-44f2-d60e-268acc3b1352"
      },
      "source": [
        "# for validating an Email\n",
        "regex = '^[a-z0-9]+[\\._]?[a-z0-9]+[@]\\w+[.][inet]{2,3}$'  \n",
        "  \n",
        "def check(email):     \n",
        "    if(re.search(regex,email)):   \n",
        "        print(\"Valid Email\")   \n",
        "    else:   \n",
        "        print(\"Invalid Email\")   \n",
        "      \n",
        "# Enter the email\n",
        "email=\"anubinrathi326@yahoo.in\"\n",
        "check(email)\n",
        "\n",
        "email=\"jaka234@gmail.com\"\n",
        "check(email)\n",
        "\n",
        "email=\"anarkali326.net\"\n",
        "check(email)"
      ],
      "execution_count": 3,
      "outputs": [
        {
          "output_type": "stream",
          "name": "stdout",
          "text": [
            "Valid Email\n",
            "Invalid Email\n",
            "Invalid Email\n"
          ]
        }
      ]
    },
    {
      "cell_type": "code",
      "metadata": {
        "colab": {
          "base_uri": "https://localhost:8080/"
        },
        "id": "nDgSwGGg1Mk-",
        "outputId": "c3249416-6ce3-4a06-dfc0-6c10f72a5470"
      },
      "source": [
        "# for validating an Email (only in)\n",
        "regex = '^[a-z0-9]+[\\._]?[a-z0-9]+[@]\\w+[.][in]{2}$'  \n",
        "  \n",
        "def check(email):     \n",
        "    if(re.search(regex,email)):   \n",
        "        print(\"Valid Email\")   \n",
        "    else:   \n",
        "        print(\"Invalid Email\")   \n",
        "      \n",
        "# Enter the email\n",
        "email=\"anubinrathi326@yahoo.in\"\n",
        "check(email)\n",
        "\n",
        "email=\"jaka234@gmail.com\"\n",
        "check(email)\n",
        "\n",
        "email=\"anarkali326@gmail.net\"\n",
        "check(email)"
      ],
      "execution_count": 4,
      "outputs": [
        {
          "output_type": "stream",
          "name": "stdout",
          "text": [
            "Valid Email\n",
            "Invalid Email\n",
            "Invalid Email\n"
          ]
        }
      ]
    },
    {
      "cell_type": "markdown",
      "metadata": {
        "id": "AAqgpgDj1x_j"
      },
      "source": [
        "PART B: Create a table with following fields and create at least 5 rows and\n",
        "perform the following tasks: 10 Marks\n",
        "\n",
        "Create a Python Program to create a student database and execute create, delete,\n",
        "update and select commands of SQL (5x1=5).\n",
        "\n",
        "i. Add a new column called total which holds the sum of all 3 subjects.\n",
        "1Mark\n",
        "\n",
        "ii. Select the instances where the total marks are greater than >400 and\n",
        "gender is Female. 1Mark\n",
        "\n",
        "iii. Find all the subjects that has ‘in’ in it. 1Mark\n",
        "\n",
        "iv. Demonstrate the usage of group by and having clause. 1Mark\n",
        "\n",
        "v. Sort the total in descending order. 1Mark"
      ]
    },
    {
      "cell_type": "code",
      "metadata": {
        "colab": {
          "base_uri": "https://localhost:8080/",
          "height": 280
        },
        "id": "AzGGw9P-2o8k",
        "outputId": "a5a1471e-add9-4e37-9145-30ef0b03a459"
      },
      "source": [
        "import sqlite3 \n",
        "conn = sqlite3.connect('student.db')\n",
        "\n",
        "conn.execute('''CREATE TABLE STUDENTS (SNAME TEXT NOT NULL,REGNUM NUMERIC(10), GENDER VARCHAR(10),PROGRAM VARCHAR(20),SUB1 VARCHAR(30),SUB2 VARCHAR(30),SUB3 VARCHAR(30),TEACHER VARCHAR(30));''') \n",
        "\n",
        "print (\"Table created successfully\")\n"
      ],
      "execution_count": 5,
      "outputs": [
        {
          "output_type": "error",
          "ename": "OperationalError",
          "evalue": "ignored",
          "traceback": [
            "\u001b[0;31m---------------------------------------------------------------------------\u001b[0m",
            "\u001b[0;31mOperationalError\u001b[0m                          Traceback (most recent call last)",
            "\u001b[0;32m<ipython-input-5-81cbeb355d4d>\u001b[0m in \u001b[0;36m<module>\u001b[0;34m()\u001b[0m\n\u001b[1;32m      2\u001b[0m \u001b[0mconn\u001b[0m \u001b[0;34m=\u001b[0m \u001b[0msqlite3\u001b[0m\u001b[0;34m.\u001b[0m\u001b[0mconnect\u001b[0m\u001b[0;34m(\u001b[0m\u001b[0;34m'student.db'\u001b[0m\u001b[0;34m)\u001b[0m\u001b[0;34m\u001b[0m\u001b[0;34m\u001b[0m\u001b[0m\n\u001b[1;32m      3\u001b[0m \u001b[0;34m\u001b[0m\u001b[0m\n\u001b[0;32m----> 4\u001b[0;31m \u001b[0mconn\u001b[0m\u001b[0;34m.\u001b[0m\u001b[0mexecute\u001b[0m\u001b[0;34m(\u001b[0m\u001b[0;34m'''CREATE TABLE STUDENTS (SNAME TEXT NOT NULL,REGNUM NUMERIC(10), GENDER VARCHAR(10),PROGRAM VARCHAR(20),SUB1 VARCHAR(30),SUB2 VARCHAR(30),SUB3 VARCHAR(30),TEACHER VARCHAR(30));'''\u001b[0m\u001b[0;34m)\u001b[0m\u001b[0;34m\u001b[0m\u001b[0;34m\u001b[0m\u001b[0m\n\u001b[0m\u001b[1;32m      5\u001b[0m \u001b[0;34m\u001b[0m\u001b[0m\n\u001b[1;32m      6\u001b[0m \u001b[0mprint\u001b[0m \u001b[0;34m(\u001b[0m\u001b[0;34m\"Table created successfully\"\u001b[0m\u001b[0;34m)\u001b[0m\u001b[0;34m\u001b[0m\u001b[0;34m\u001b[0m\u001b[0m\n",
            "\u001b[0;31mOperationalError\u001b[0m: table STUDENTS already exists"
          ]
        }
      ]
    },
    {
      "cell_type": "code",
      "metadata": {
        "id": "T712FxYz1yK9"
      },
      "source": [
        "conn.execute(\"INSERT INTO STUDENTS VALUES ('MANISH', 25,'MALE','MBA', 'BUSINESS','MATHS','STATISTICS','SAKSHI')\"); \n",
        "conn.execute(\"INSERT INTO STUDENTS VALUES ('SHIVA', 26,'MALE','MSC', 'PHYSICS','CHEMISTRY','MATHS','MUKESH')\"); \n",
        "conn.execute(\"INSERT INTO STUDENTS VALUES ('SURESH', 51,'MALE','MA', 'JOURNALISM','GEOGRAPHY','HISTORY','SASHA')\"); \n",
        "conn.execute(\"INSERT INTO STUDENTS VALUES ('DIKSHA', 55,'FEMALE','MA', 'FRENCH','ENGLISH','HINDI','SASHA')\"); \n",
        "conn.execute(\"INSERT INTO STUDENTS VALUES ('GAURAV', 65,'MALE','MTECH', 'ENGLISH','ECONOMICS','STATISTICS','DASGUPTA')\"); \n",
        "\n",
        "conn.commit()"
      ],
      "execution_count": null,
      "outputs": []
    },
    {
      "cell_type": "code",
      "metadata": {
        "id": "sAemNDC078Js"
      },
      "source": [
        "#1\n",
        "conn.execute(\"ALTER TABLE STUDENTS ADD TOTAL NUMERIC(20)\");"
      ],
      "execution_count": null,
      "outputs": []
    },
    {
      "cell_type": "code",
      "metadata": {
        "id": "8CUl1rs27758"
      },
      "source": [
        "conn.execute(\"UPDATE STUDENTS SET TOTAL = 345 WHERE REGNUM=25; \");\n",
        "conn.execute(\"UPDATE STUDENTS SET TOTAL = 450 WHERE REGNUM=26; \");\n",
        "conn.execute(\"UPDATE STUDENTS SET TOTAL = 410 WHERE REGNUM=51; \");\n",
        "conn.execute(\"UPDATE STUDENTS SET TOTAL = 433 WHERE REGNUM=55; \");\n",
        "conn.execute(\"UPDATE STUDENTS SET TOTAL = 355 WHERE REGNUM=65; \");"
      ],
      "execution_count": null,
      "outputs": []
    },
    {
      "cell_type": "code",
      "metadata": {
        "id": "R2rcGVTp8FGR"
      },
      "source": [
        "#2\n",
        "cursor = conn.execute(\"SELECT * FROM STUDENTS WHERE TOTAL>400 AND GENDER='FEMALE'\")"
      ],
      "execution_count": null,
      "outputs": []
    },
    {
      "cell_type": "code",
      "metadata": {
        "id": "z1hL4iRm8RDQ"
      },
      "source": [
        "#3\n",
        "def Like_Data():\n",
        "# Connecting to sqlite\n",
        "    conn = sqlite3.connect('student.db')\n",
        " #Creating a cursor object using\n",
        "    cursor = conn.cursor()\n",
        "    cursor.execute('''SELECT * FROM STUDENTS WHERE SUB1 LIKE '%IN%';''')\n",
        "    cursor.execute('''SELECT * FROM STUDENTS WHERE SUB2 LIKE '%IN%';''')\n",
        "    cursor.execute('''SELECT * FROM STUDENTS WHERE SUB3 LIKE '%IN%';''')\n",
        "    result = cursor.fetchall()\n",
        "    for i in result:\n",
        "        print(i)\n",
        " # Commit your changes in the database\n",
        "    conn.commit()\n",
        " # Closing the connection\n",
        "    conn.close()\n",
        "\n",
        "    \n",
        "Like_Data()"
      ],
      "execution_count": null,
      "outputs": []
    },
    {
      "cell_type": "code",
      "metadata": {
        "id": "oFw9w8Ht-2S0"
      },
      "source": [
        "#4\n",
        "cursor=conn.execute('''SELECT COUNT(REGNUM), PROGRAM, TOTAL FROM STUDENTS GROUP BY PROGRAM,TOTAL HAVING TOTAL>400;''')\n",
        "result = cursor.fetchall()\n",
        "for i in result:\n",
        "    print(i)"
      ],
      "execution_count": null,
      "outputs": []
    },
    {
      "cell_type": "code",
      "metadata": {
        "id": "YdmwRrGh9inr"
      },
      "source": [
        "#5\n",
        "cursor = conn.execute(\"SELECT * FROM STUDENTS ORDER BY TOTAL DESC\")\n"
      ],
      "execution_count": null,
      "outputs": []
    }
  ]
}